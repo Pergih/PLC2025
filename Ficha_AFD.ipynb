{
  "cells": [
    {
      "cell_type": "markdown",
      "metadata": {
        "id": "lqZQOHxtGC65"
      },
      "source": [
        "# Autómatos Finitos Deterministas\n",
        "## 2024-02-22 by jcr"
      ]
    },
    {
      "cell_type": "markdown",
      "metadata": {
        "id": "yIwAFQK0GC67"
      },
      "source": [
        "## Máquina de venda automática\n",
        "\n",
        "Considere o problema de modelar uma máquina de venda automática usando um autómato finito determinista.\n",
        "\n",
        "Uma máquina de venda automática tem diferentes estados que representam o seu estado de funcionamento, como \"à espera\", \"aceitando moedas\", \"selecionando um produto\", \"entregando um produto\", etc. As transições entre esses estados são determinadas pelas ações do utilizador e pelo estado atual da máquina.\n",
        "\n",
        "Aqui está uma versão simplificada do problema:\n",
        "\n",
        "Estados:\n",
        "* À Espera\n",
        "* Aceitar Moedas\n",
        "* Selecionar Produto\n",
        "* Entregar Produto\n",
        "    \n",
        "Transições:\n",
        "\n",
        "* Do estado \"À Espera\", a máquina pode transitar para \"Aceitar Moedas\" quando um utilizador insere uma moeda.\n",
        "* Do estado \"Aceitar Moedas\", a máquina pode transitar para \"Selecionar Produto\" quando o utilizador pressiona um botão para selecionar um produto.\n",
        "* Do estado \"Selecionar Produto\", a máquina pode transitar para \"Entregar Produto\" quando o utilizador confirma a seleção.\n",
        "Após \"Entregar Produto\", a máquina retorna ao estado \"À Espera\".\n",
        "\n",
        "Ações:\n",
        "\n",
        "* Inserir Moeda\n",
        "* Pressionar Botão (para seleção de produto)\n",
        "* Confirmar Seleção\n",
        "* Entregar Produto\n",
        "\n",
        "Condições:\n",
        "\n",
        "* A máquina só aceita moedas no estado \"Aceitar Moedas\".\n",
        "* O utilizador só pode pressionar um botão para selecionar um produto no estado \"Selecionar Produto\".\n",
        "* A Entrega do Produto ocorre após a confirmação da seleção.\n",
        "\n",
        "Este problema pode ser modelado como um autómato finito determinista com estados, transições e ações associadas a cada estado. É um bom exercício definir os estados, transições e ações, e depois criar um diagrama ou tabela de transição de estados para representar o comportamento da máquina de venda automática."
      ]
    },
    {
      "cell_type": "markdown",
      "metadata": {
        "id": "k9f3zptbGC68"
      },
      "source": [
        "## Semáforo de trânsito\n",
        "\n",
        "Considere um semáforo de trânsito e tente modelá-lo com um AFD de acordo com os seguintes requisitos.\n",
        "\n",
        "Estados:\n",
        "\n",
        "* Vermelho (para veículos)\n",
        "* Verde (para veículos)\n",
        "* Amarelo (transição entre Vermelho e Verde)\n",
        "\n",
        "Transições:\n",
        "\n",
        "* Do estado Vermelho, o semáforo pode transitar para Amarelo após um certo período de tempo.\n",
        "* Do estado Amarelo, o semáforo pode transitar para Verde após um curto período de tempo.\n",
        "* Do estado Verde, o semáforo pode transitar para Amarelo após um certo período de tempo.\n",
        "* Do estado Amarelo, o semáforo pode transitar para Vermelho após um curto período de tempo.\n",
        "\n",
        "Ações:\n",
        "\n",
        "* Mudar para Vermelho (para veículos)\n",
        "* Mudar para Verde (para veículos)\n",
        "* Mudar para Amarelo\n",
        "\n",
        "Condições:\n",
        "\n",
        "* O semáforo permanece no estado Vermelho por um período mais longo do que no estado Amarelo.\n",
        "* O semáforo permanece no estado Verde por um período mais longo do que no estado Amarelo.\n",
        "* Este problema representa um ciclo simples de semáforo de trânsito, onde os estados e transições são governados por temporizadores que controlam o tempo em cada estado. Pode-se modelar isso como um autómato finito com estados representando as cores do semáforo e transições ocorrendo com base no tempo decorrido em cada estado."
      ]
    },
    {
      "cell_type": "markdown",
      "metadata": {
        "id": "07L3aW3VGC68"
      },
      "source": [
        "## Elevador\n",
        "\n",
        "Considere o problema de modelar o comportamento de um sistema de controle de um elevador usando um AFD.\n",
        "\n",
        "Estados:\n",
        "\n",
        "* Parado num Andar\n",
        "* Subindo\n",
        "* Descendo\n",
        "* Abrindo Porta\n",
        "* Fechando Porta\n",
        "\n",
        "Transições:\n",
        "\n",
        "* Do estado Parado num Andar, o elevador pode transitar para Subindo ou Descendo quando o utilizador pressiona o botão correspondente.\n",
        "* Se o elevador estiver subindo ou descendo, ele pode transitar para Abrindo Porta quando atingir o andar desejado.\n",
        "* Da abertura da porta, o elevador pode transitar para Fechando Porta após um certo período de tempo.\n",
        "* Do estado Fechando Porta, o elevador pode voltar para Parado em um Andar.\n",
        "\n",
        "Ações:\n",
        "\n",
        "* Pressionar Botão para Cima\n",
        "* Pressionar Botão para Baixo\n",
        "* Abrir Porta\n",
        "* Fechar Porta\n",
        "\n",
        "Condições:\n",
        "\n",
        "* O elevador só pode abrir a porta quando atinge um andar desejado.\n",
        "* A porta permanece aberta por um período antes de fechar automaticamente.\n",
        "* O elevador só pode se movimentar para cima ou para baixo após um botão correspondente ser pressionado.\n",
        "* Este problema modela o comportamento básico de um elevador, onde os estados e transições são determinados pelas ações dos utilizadores (pressionar botões) e as operações automáticas do elevador (abrir e fechar portas, mover para cima ou para baixo). Pode-se criar um AFD para representar o controle de elevador."
      ]
    },
    {
      "cell_type": "markdown",
      "metadata": {
        "id": "VPSd6iPuGC69"
      },
      "source": [
        "## Strings binários com número Par de 0's e número ímpar de 1's\n",
        "\n",
        "Especifique um AFD que reconhece como válidas as strings binárias que obedecem à condição de ter um número par de 0's e um número ímpar de 1's."
      ]
    },
    {
      "cell_type": "code",
      "execution_count": null,
      "metadata": {
        "vscode": {
          "languageId": "plaintext"
        },
        "id": "j1nvnyYIGC69"
      },
      "outputs": [],
      "source": [
        "# ver programa feito"
      ]
    },
    {
      "cell_type": "markdown",
      "metadata": {
        "id": "G6gYYy85GC6-"
      },
      "source": [
        "## Números inteiros divisíveis por 4\n",
        "\n",
        "Especifique um AFD que reconhece como válidas as strings contendo números inteiros divisíveis por 4."
      ]
    }
  ],
  "metadata": {
    "language_info": {
      "name": "python"
    },
    "colab": {
      "provenance": []
    }
  },
  "nbformat": 4,
  "nbformat_minor": 0
}