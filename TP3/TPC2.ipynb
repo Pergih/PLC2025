{
 "cells": [
  {
   "cell_type": "markdown",
   "id": "fde6ec74",
   "metadata": {},
   "source": [
    "# Val e Op"
   ]
  },
  {
   "cell_type": "code",
   "execution_count": 27,
   "id": "5f95aaf2",
   "metadata": {},
   "outputs": [
    {
     "data": {
      "text/plain": [
       "{'val': ['5', '13', '2', '1', '42', '34', '9'],\n",
       " 'op': ['-', '+', '-', '+', '-', '+']}"
      ]
     },
     "execution_count": 27,
     "metadata": {},
     "output_type": "execute_result"
    }
   ],
   "source": [
    "import re\n",
    "exp = \"5 - 13 + 2 - 1 + 42 - 34 + 9\"\n",
    "\n",
    "mydict = {}\n",
    "mydict['val'] = re.findall(r'\\d+\\b', exp)\n",
    "mydict['op'] = re.findall(r'(-|\\+)', exp)\n",
    "mydict"
   ]
  },
  {
   "cell_type": "markdown",
   "id": "53ef9a08",
   "metadata": {},
   "source": [
    "# Markdown -> HTML\n",
    "_exemplo_:\n",
    "# Ola\n",
    "\n",
    "Tigas **otista** **Tigas**\n",
    "*italic*\n",
    "\n",
    "1. Primeiro item\n",
    "2. Segundo item\n",
    "3. Terceiro item\n",
    "\n",
    "adwklmam\n",
    "\n",
    "1. Primeiro item\n",
    "2. Segundo item\n",
    "3. Terceiro item\n",
    "\n",
    "[Tigas](http://www.google.pt)\n",
    "\n",
    "![Tigas](https://encrypted-tbn0.gstatic.com/images?q=tbn:ANd9GcTryh-p98E0O6xSrWJiR_2NwT4Zp9G0jT_HYw&s)\n"
   ]
  },
  {
   "cell_type": "code",
   "execution_count": null,
   "id": "ea1de39d",
   "metadata": {},
   "outputs": [
    {
     "name": "stdout",
     "output_type": "stream",
     "text": [
      "\n",
      "<h1>Ola</h1>\n",
      "\n",
      "Tigas <b>otista</b> <b>Tigas</b>\n",
      "<i>italic</i>\n",
      "\n",
      "<ol>\n",
      "<li>Primeiro item</li>\n",
      "<li>Segundo item</li>\n",
      "<li>Terceiro item</li>\n",
      "</ol>\n",
      "\n",
      "adwklmam\n",
      "\n",
      "<ol>\n",
      "<li>Primeiro item</li>\n",
      "<li>Segundo item</li>\n",
      "<li>Terceiro item</li>\n",
      "</ol>\n",
      "\n",
      "<a href=\"https://www.google.pt\">Tigas</a>\n",
      "\n",
      "<img src=\"https://encrypted-tbn0.gstatic.com/images?q=tbn:ANd9GcTryh-p98E0O6xSrWJiR_2NwT4Zp9G0jT_HYw&s\" alt=\"Tigas\"/>\n",
      "\n"
     ]
    }
   ],
   "source": [
    "texto = \"\"\"\n",
    "# Ola\n",
    "\n",
    "Tigas **otista** **Tigas**\n",
    "*italic*\n",
    "\n",
    "1. Primeiro item\n",
    "2. Segundo item\n",
    "3. Terceiro item\n",
    "\n",
    "adwklmam\n",
    "\n",
    "1. Primeiro item\n",
    "2. Segundo item\n",
    "3. Terceiro item\n",
    "\n",
    "[Tigas](https://www.google.pt)\n",
    "\n",
    "![Tigas](https://encrypted-tbn0.gstatic.com/images?q=tbn:ANd9GcTryh-p98E0O6xSrWJiR_2NwT4Zp9G0jT_HYw&s)\n",
    "\"\"\"\n",
    "\n",
    "# Headers\n",
    "texto = re.sub(r'^# (.+)$', r'<h1>\\1</h1>', texto, flags=re.MULTILINE)\n",
    "texto = re.sub(r'^## (.+)$', r'<h2>\\1</h2>', texto, flags=re.MULTILINE)\n",
    "texto = re.sub(r'^### (.+)$', r'<h3>\\1</h3>', texto, flags=re.MULTILINE)\n",
    "\n",
    "# Bold\n",
    "texto = re.sub(r'\\*\\*(.+?)\\*\\*', r'<b>\\1</b>', texto, flags=re.MULTILINE)\n",
    "\n",
    "# Italic\n",
    "texto = re.sub(r'\\*(.+?)\\*', r'<i>\\1</i>', texto, flags=re.MULTILINE)\n",
    "\n",
    "# Numbered List\n",
    "texto = re.sub(r'((^\\d+\\. (.+)\\n?)+)', r'<ol>\\n\\1</ol>\\n', texto, flags=re.MULTILINE)\n",
    "texto = re.sub(r'(^\\d\\. (.+)$)', r'<li>\\2</li>', texto, flags=re.MULTILINE)\n",
    "\n",
    "# Image\n",
    "texto = re.sub(r'!\\[(.+?)\\]\\((.+?)\\)', r'<img src=\"\\2\" alt=\"\\1\"/>', texto, flags=re.MULTILINE)\n",
    "\n",
    "# Link\n",
    "texto = re.sub(r'\\[(.+?)\\]\\((.+?)\\)', r'<a href=\"\\2\">\\1</a>', texto, flags=re.MULTILINE)\n",
    "\n",
    "\n",
    "print(texto)"
   ]
  },
  {
   "cell_type": "code",
   "execution_count": 28,
   "id": "12bb47fa",
   "metadata": {},
   "outputs": [
    {
     "name": "stdout",
     "output_type": "stream",
     "text": [
      "Estado atual: 0\n"
     ]
    },
    {
     "data": {
      "text/plain": [
       "True"
      ]
     },
     "execution_count": 28,
     "metadata": {},
     "output_type": "execute_result"
    }
   ],
   "source": [
    "import classe_afd\n",
    "\n",
    "estados = [\"0\",\"1\",\"2\",\"3\"] # resto da divisao\n",
    "\n",
    "alfabeto = \"0123456789\"\n",
    "\n",
    "ftransicao = {\n",
    " '0': {'0': '0', '1': '1', '2': '2', '3': '3', '4': '0', '5': '1', '6': '2', '7': '3', '8': '0', '9': '1'},\n",
    " '1': {'0': '2', '1': '3', '2': '0', '3': '1', '4': '2', '5': '3', '6': '0', '7': '1', '8': '2', '9': '3'},\n",
    " '2': {'0': '0', '1': '1', '2': '2', '3': '3', '4': '0', '5': '1', '6': '2', '7': '3', '8': '0', '9': '1'},\n",
    " '3': {'0': '2', '1': '3', '2': '0', '3': '1', '4': '2', '5': '3', '6': '0', '7': '1', '8': '2', '9': '3'}\n",
    "}\n",
    "\n",
    "estado_inicial = \"0\"\n",
    "\n",
    "estados_finais = [\"0\"]\n",
    "\n",
    "\n",
    "divisivel4 = classe_afd.AutomatoFinitoDeterminista(estados, alfabeto, ftransicao, estado_inicial, estados_finais)\n",
    "\n",
    "divisivel4.reset()\n",
    "divisivel4.debug()\n",
    "# divisivel4.process_input(\"10\")\n",
    "divisivel4.process_input(\"372\")"
   ]
  }
 ],
 "metadata": {
  "kernelspec": {
   "display_name": "Python 3",
   "language": "python",
   "name": "python3"
  },
  "language_info": {
   "codemirror_mode": {
    "name": "ipython",
    "version": 3
   },
   "file_extension": ".py",
   "mimetype": "text/x-python",
   "name": "python",
   "nbconvert_exporter": "python",
   "pygments_lexer": "ipython3",
   "version": "3.10.12"
  }
 },
 "nbformat": 4,
 "nbformat_minor": 5
}
